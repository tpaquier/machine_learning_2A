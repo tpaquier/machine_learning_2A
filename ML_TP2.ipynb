{
 "cells": [
  {
   "cell_type": "markdown",
   "id": "b52dddf4-6544-47e4-b384-295a8bd65291",
   "metadata": {},
   "source": [
    "## Introduction a numpy"
   ]
  },
  {
   "cell_type": "code",
   "execution_count": null,
   "id": "f6e30c82-3f54-4cd7-b723-97c0420e4742",
   "metadata": {},
   "outputs": [],
   "source": [
    "import numpy as np\n",
    "import matplotlib.pyplot as plt\n",
    "from sklearn.linear_model import LinearRegression"
   ]
  },
  {
   "cell_type": "code",
   "execution_count": null,
   "id": "7a52115a-5e16-49cd-be7d-fed2cdb24b71",
   "metadata": {},
   "outputs": [],
   "source": [
    "a = np.array([1,42,18])\n",
    "b = np.arange(10)\n",
    "c = np.arange(2,5,.5)\n",
    "c = np.linspace(0,1,11)\n",
    "d = np.ones(6)\n",
    "e = np.zeros(5)\n",
    "f = np.full(5,3)"
   ]
  },
  {
   "cell_type": "code",
   "execution_count": null,
   "id": "0ef2280a-2588-49e7-8499-75fc2dc09aa4",
   "metadata": {},
   "outputs": [],
   "source": [
    "a"
   ]
  },
  {
   "cell_type": "code",
   "execution_count": null,
   "id": "1337164d-07a0-4eab-82a1-4840ba617c6b",
   "metadata": {},
   "outputs": [],
   "source": [
    "b"
   ]
  },
  {
   "cell_type": "code",
   "execution_count": null,
   "id": "6d3fa061-6664-4cb5-befb-0a0512d8f6fe",
   "metadata": {},
   "outputs": [],
   "source": [
    "c"
   ]
  },
  {
   "cell_type": "code",
   "execution_count": null,
   "id": "4fc89053-bcf9-45e6-bc7b-bd101a590757",
   "metadata": {},
   "outputs": [],
   "source": [
    "d"
   ]
  },
  {
   "cell_type": "code",
   "execution_count": null,
   "id": "7bd4d3b4-e525-4f3f-984a-9fe799fecb92",
   "metadata": {},
   "outputs": [],
   "source": [
    "f"
   ]
  },
  {
   "cell_type": "code",
   "execution_count": null,
   "id": "1ba0ee92-a686-4798-862d-07227ecc6f19",
   "metadata": {},
   "outputs": [],
   "source": [
    "A = np.array([[1,2,3], [4,5,6], [7,8,9]])\n",
    "B = np.array([1,2,3,4,5,6,7,8,9]).reshape((3,3))"
   ]
  },
  {
   "cell_type": "code",
   "execution_count": null,
   "id": "81b58d37-4b39-4b64-accc-3e777eaa61e0",
   "metadata": {},
   "outputs": [],
   "source": [
    "A"
   ]
  },
  {
   "cell_type": "code",
   "execution_count": null,
   "id": "477ecfa7-8df3-4872-9f79-7b2755ed426b",
   "metadata": {},
   "outputs": [],
   "source": [
    "C = np.ones((2,5))"
   ]
  },
  {
   "cell_type": "code",
   "execution_count": null,
   "id": "24224f9d-053b-4e43-9548-cc39c62d5db5",
   "metadata": {},
   "outputs": [],
   "source": [
    "C"
   ]
  },
  {
   "cell_type": "code",
   "execution_count": null,
   "id": "35c1785c-8978-416b-b3d2-ac146cb00a34",
   "metadata": {},
   "outputs": [],
   "source": [
    "l = np.concatenate((a,b))\n",
    "m = np.vstack((A,a))\n",
    "n = np.hstack((A,A))"
   ]
  },
  {
   "cell_type": "code",
   "execution_count": null,
   "id": "f056a484-4b12-47c3-b7ba-53710356c80b",
   "metadata": {},
   "outputs": [],
   "source": [
    "l"
   ]
  },
  {
   "cell_type": "code",
   "execution_count": null,
   "id": "8cfb03af-35c1-4f61-bd51-b8229c72cb47",
   "metadata": {},
   "outputs": [],
   "source": [
    "m"
   ]
  },
  {
   "cell_type": "code",
   "execution_count": null,
   "id": "94f1e5e2-c0f2-4824-91cc-83b1e7c1e284",
   "metadata": {},
   "outputs": [],
   "source": [
    "n"
   ]
  },
  {
   "cell_type": "code",
   "execution_count": null,
   "id": "7dba5d22-4a4f-433d-90ff-af790f49fd6e",
   "metadata": {},
   "outputs": [],
   "source": [
    "A@a"
   ]
  },
  {
   "cell_type": "code",
   "execution_count": null,
   "id": "3c3d9095-5872-4186-8cd6-46aafb0731ff",
   "metadata": {},
   "outputs": [],
   "source": [
    "A.sum(axis = 1)\n",
    "#somme sur les lignes"
   ]
  },
  {
   "cell_type": "code",
   "execution_count": null,
   "id": "28f8f617-54f4-4037-aaa3-e1c152fc2ed3",
   "metadata": {},
   "outputs": [],
   "source": [
    "A"
   ]
  },
  {
   "cell_type": "code",
   "execution_count": null,
   "id": "e840a5f6-eb60-41c2-80f8-41a32bb71978",
   "metadata": {},
   "outputs": [],
   "source": [
    "A.sum(axis = 0)\n",
    "#somme sur les colonnes"
   ]
  },
  {
   "cell_type": "code",
   "execution_count": null,
   "id": "3be3837b-ffee-488b-b327-265da75dcb22",
   "metadata": {},
   "outputs": [],
   "source": [
    "a"
   ]
  },
  {
   "cell_type": "code",
   "execution_count": null,
   "id": "9714737d-f3c2-4f1f-94ad-e4825adfa260",
   "metadata": {},
   "outputs": [],
   "source": [
    "A[1]"
   ]
  },
  {
   "cell_type": "code",
   "execution_count": null,
   "id": "ab5a2e10-c819-4d44-86f7-3ee7f1bce17c",
   "metadata": {},
   "outputs": [],
   "source": [
    "A.T[1]"
   ]
  },
  {
   "cell_type": "code",
   "execution_count": null,
   "id": "57cd1c56-1a07-49ad-91e5-1980154f8f0b",
   "metadata": {},
   "outputs": [],
   "source": [
    "f = np.array([2,3])\n",
    "g = np.array([1.5, 3])"
   ]
  },
  {
   "cell_type": "code",
   "execution_count": null,
   "id": "bf972a4d-2c54-47d1-a689-c8fc1c8a61dd",
   "metadata": {},
   "outputs": [],
   "source": [
    "f+g"
   ]
  },
  {
   "cell_type": "code",
   "execution_count": null,
   "id": "810aaf63-6b78-474d-82e4-f9547f14d2df",
   "metadata": {},
   "outputs": [],
   "source": [
    "f*g"
   ]
  },
  {
   "cell_type": "code",
   "execution_count": null,
   "id": "fbd01595-f946-4cce-a6a0-52d08892d1b7",
   "metadata": {},
   "outputs": [],
   "source": [
    "f**g"
   ]
  },
  {
   "cell_type": "code",
   "execution_count": null,
   "id": "52d9ca6d-f790-4e5a-bd00-8b4e3ad6174f",
   "metadata": {},
   "outputs": [],
   "source": [
    "1.5**2"
   ]
  },
  {
   "cell_type": "code",
   "execution_count": null,
   "id": "f592ca8f-0b78-448e-9347-eea76108b574",
   "metadata": {},
   "outputs": [],
   "source": [
    "2**1.5"
   ]
  },
  {
   "cell_type": "code",
   "execution_count": null,
   "id": "0480b96e-920e-4a49-8190-2582c7772566",
   "metadata": {},
   "outputs": [],
   "source": [
    "f == g"
   ]
  },
  {
   "cell_type": "code",
   "execution_count": null,
   "id": "9a636e7f-ce8a-4db5-b6d6-12355509b01b",
   "metadata": {},
   "outputs": [],
   "source": [
    "f < g"
   ]
  },
  {
   "cell_type": "code",
   "execution_count": null,
   "id": "ee156c75-b261-4e49-9640-5ff674c60de7",
   "metadata": {},
   "outputs": [],
   "source": [
    "f <= g"
   ]
  },
  {
   "cell_type": "code",
   "execution_count": null,
   "id": "d99f862d-96ec-401b-ae77-ebbcb2c02dd4",
   "metadata": {},
   "outputs": [],
   "source": [
    "b"
   ]
  },
  {
   "cell_type": "code",
   "execution_count": null,
   "id": "7ecd91f1-2875-43ba-8917-17e1d8964ada",
   "metadata": {},
   "outputs": [],
   "source": [
    "b[:]"
   ]
  },
  {
   "cell_type": "code",
   "execution_count": null,
   "id": "77ecb314-2e74-441a-bdcd-11333fbcd587",
   "metadata": {},
   "outputs": [],
   "source": [
    "b[1:8:2]"
   ]
  },
  {
   "cell_type": "code",
   "execution_count": null,
   "id": "2341ed72-7c33-4fbc-bdc9-ba520d666270",
   "metadata": {},
   "outputs": [],
   "source": [
    "b[:-1]\n",
    "#on enleve le dernier?"
   ]
  },
  {
   "cell_type": "code",
   "execution_count": null,
   "id": "9d2c45dd-4295-4bd5-91b7-f34304abc300",
   "metadata": {},
   "outputs": [],
   "source": [
    "b"
   ]
  },
  {
   "cell_type": "markdown",
   "id": "45cf6724-4697-4d68-871e-41d76ac63252",
   "metadata": {},
   "source": [
    "### Rappels Nunmpy\n",
    "\n",
    "Si on a un array de 5 dimension et qu'on prend les M[i,j,k,l] ça nous renvoie une liste.\n",
    "\n",
    "Broadcasting : si on fait M*M', si ça a la même dimension ça fait coordonnée par coordonée, sinon ça fait en sorte que l'indice commun puisse être utilsié pour le produit.\n",
    "\n",
    "M.shape --> pour bien vérifier la taille.\n",
    "dim(A) = k*l*m\n",
    "A.sum(axis = 0) --> l*m\n",
    "\n",
    "Source d'erreur, se tromper sur la différence entre une méthode et une fonction. Et la dimension.\n",
    "\n",
    "Si on a une matrice m, valeurs vraies ou fausses.\n",
    "\n",
    "M = np.array(Q, type = boolean)\n",
    "\n",
    "M == True, ça va plater parce qu'on a pas précisé comment on la faisait les vérifications. \n",
    "Si array de taille 3 par 2, on aura une matrice 2,2."
   ]
  },
  {
   "cell_type": "code",
   "execution_count": null,
   "id": "0f42f195-77c6-4108-a3fe-aab323c3d7ba",
   "metadata": {},
   "outputs": [],
   "source": [
    "test = np.arange(21)"
   ]
  },
  {
   "cell_type": "code",
   "execution_count": null,
   "id": "c8c716b4-80ee-48e4-995b-d6dc54eb4b61",
   "metadata": {},
   "outputs": [],
   "source": [
    "test"
   ]
  },
  {
   "cell_type": "code",
   "execution_count": null,
   "id": "45d2d36e-e3c6-4305-9be2-16321ea0f49f",
   "metadata": {},
   "outputs": [],
   "source": [
    "test = np.delete(test,0)"
   ]
  },
  {
   "cell_type": "code",
   "execution_count": null,
   "id": "340eb09a-7ecf-458d-a543-205eefc68b29",
   "metadata": {},
   "outputs": [],
   "source": [
    "matrix = test.reshape((5,4))"
   ]
  },
  {
   "cell_type": "code",
   "execution_count": null,
   "id": "f39a53b1-d15a-4ce6-b509-953c42180381",
   "metadata": {
    "scrolled": true
   },
   "outputs": [],
   "source": [
    "matrix"
   ]
  },
  {
   "cell_type": "code",
   "execution_count": null,
   "id": "f73c1af7-1466-42f3-bc87-86f1a5666696",
   "metadata": {},
   "outputs": [],
   "source": [
    "matrix = matrix.T"
   ]
  },
  {
   "cell_type": "code",
   "execution_count": null,
   "id": "b52f3c43-0c3a-458a-a056-66d34a9b9d39",
   "metadata": {},
   "outputs": [],
   "source": [
    "b"
   ]
  },
  {
   "cell_type": "code",
   "execution_count": null,
   "id": "602e7a15-c2d4-41b7-9344-d8f3909ff2ef",
   "metadata": {},
   "outputs": [],
   "source": [
    "b[::-1]"
   ]
  },
  {
   "cell_type": "code",
   "execution_count": null,
   "id": "4fbcd566-2281-424e-9ac9-344c8c704dd1",
   "metadata": {},
   "outputs": [],
   "source": [
    "petit = matrix[0:3]"
   ]
  },
  {
   "cell_type": "code",
   "execution_count": null,
   "id": "6dc5bf48-8417-415a-99c1-72148a8367f6",
   "metadata": {},
   "outputs": [],
   "source": [
    "matrix"
   ]
  },
  {
   "cell_type": "code",
   "execution_count": null,
   "id": "61125a01-0845-4432-aa93-94312f63ef4a",
   "metadata": {},
   "outputs": [],
   "source": [
    "petit"
   ]
  },
  {
   "cell_type": "code",
   "execution_count": null,
   "id": "32650670-4e5d-4cd4-94df-9249c678fc67",
   "metadata": {},
   "outputs": [],
   "source": [
    "petit[:1]"
   ]
  },
  {
   "cell_type": "code",
   "execution_count": null,
   "id": "4ae32d98-6706-4967-a751-c1010057c2b8",
   "metadata": {},
   "outputs": [],
   "source": [
    "petit[1]"
   ]
  },
  {
   "cell_type": "code",
   "execution_count": null,
   "id": "bfaa6faa-0b2a-47db-bf37-310532404b0a",
   "metadata": {},
   "outputs": [],
   "source": [
    "petit[1,1]"
   ]
  },
  {
   "cell_type": "code",
   "execution_count": null,
   "id": "221ab724-8f2d-4eba-b0d6-9a87740fec39",
   "metadata": {},
   "outputs": [],
   "source": [
    "petit[:2]"
   ]
  },
  {
   "cell_type": "code",
   "execution_count": null,
   "id": "f889a98e-15cb-497f-a49a-9f1417469dde",
   "metadata": {},
   "outputs": [],
   "source": [
    "petit[1][2]"
   ]
  },
  {
   "cell_type": "code",
   "execution_count": null,
   "id": "0341dc84-a6fc-4541-9d8e-41e173dd81f0",
   "metadata": {},
   "outputs": [],
   "source": [
    "petit = petit[[1,2,0], :][:, [1,4,2]]"
   ]
  },
  {
   "cell_type": "code",
   "execution_count": null,
   "id": "290e644c-e299-4fd3-9266-3f5e0de0d300",
   "metadata": {},
   "outputs": [],
   "source": [
    "petit[::-1]"
   ]
  },
  {
   "cell_type": "code",
   "execution_count": null,
   "id": "7360acd1-e747-4c51-b1bc-965c126a9ca0",
   "metadata": {},
   "outputs": [],
   "source": [
    "petit[1]"
   ]
  },
  {
   "cell_type": "code",
   "execution_count": null,
   "id": "17c88de1-ded9-416c-9b99-b7184f3dc696",
   "metadata": {},
   "outputs": [],
   "source": [
    "extract = np.hstack((petit[0], petit[1], petit[2]))"
   ]
  },
  {
   "cell_type": "code",
   "execution_count": null,
   "id": "f8024fb2-3899-4f79-b7a1-0446939fb61a",
   "metadata": {},
   "outputs": [],
   "source": [
    "extract"
   ]
  },
  {
   "cell_type": "code",
   "execution_count": null,
   "id": "06e56f22-1200-4e7e-8e1c-ebfe49682bb2",
   "metadata": {},
   "outputs": [],
   "source": [
    "extract.reshape((3,3))"
   ]
  },
  {
   "cell_type": "markdown",
   "id": "08938987-4ba6-4587-93ee-837d351030b3",
   "metadata": {},
   "source": [
    "## Matplotlib"
   ]
  },
  {
   "cell_type": "markdown",
   "id": "38952400-4bab-4ada-8943-c81eafe85f6c",
   "metadata": {},
   "source": [
    "plot(x,y)\n",
    "\n",
    "Comportement de base, python va prendre toutes les paires xi, yi et tracer des lignes entre donc si on a des x qui sont pas ordonnés ça va pas très très bien marcher, (exemple ci-après).\n",
    "\n",
    "Ou d'autres fonctions.\n",
    "\n",
    "Pour générer une grille sur les x --> on utilise linspace. Régulièrement espacés pour euclidiens. \n",
    "Ou alors logspace, régulièrement espacé pour log."
   ]
  },
  {
   "cell_type": "code",
   "execution_count": null,
   "id": "6058ba80-4d48-408a-9211-c9daae1a88f6",
   "metadata": {},
   "outputs": [],
   "source": [
    "x = (1,-1,2)\n",
    "y = (0,3,-2)\n",
    "plt.plot(x,y)"
   ]
  },
  {
   "cell_type": "code",
   "execution_count": null,
   "id": "b8233006-f643-4cc5-addd-e481bf71747d",
   "metadata": {},
   "outputs": [],
   "source": [
    "plt.plot(y)"
   ]
  },
  {
   "cell_type": "code",
   "execution_count": null,
   "id": "2c921856-a321-4f70-bdb9-cbc4abbe718f",
   "metadata": {},
   "outputs": [],
   "source": [
    "x = np.linspace(0,4,10)"
   ]
  },
  {
   "cell_type": "code",
   "execution_count": null,
   "id": "5a38880b-1e32-4995-a6a2-eecb732be235",
   "metadata": {},
   "outputs": [],
   "source": [
    "y = np.sin(x)"
   ]
  },
  {
   "cell_type": "code",
   "execution_count": null,
   "id": "0f4d9400-584a-46a0-a3be-9525f453833f",
   "metadata": {},
   "outputs": [],
   "source": [
    "plt.plot(x, y)\n",
    "plt.show()"
   ]
  },
  {
   "cell_type": "code",
   "execution_count": null,
   "id": "82c9fd51-db27-449a-ac80-07d11209f42c",
   "metadata": {},
   "outputs": [],
   "source": [
    "x = np.linspace(0, 10, 1000)\n",
    "plt.plot(x, np.sin(x))\n",
    "plt.plot(x, np.cos(x))\n",
    "plt.show()"
   ]
  },
  {
   "cell_type": "code",
   "execution_count": null,
   "id": "a71ff994-b2da-4b10-87c2-88176e664b51",
   "metadata": {},
   "outputs": [],
   "source": [
    "plt.plot(x, np.sin(x), \"-.k\")\n",
    "plt.axis([0, 5, -0.5, 0.5])\n",
    "plt.show()\n",
    "#plt.axis permet de definir les limites des axes que l on veut utilsier\n",
    "#et on peut mettre un paramètre textuel dans le plt.plot"
   ]
  },
  {
   "cell_type": "code",
   "execution_count": null,
   "id": "43837f9c-2144-4df6-8234-fe49d0a0aa59",
   "metadata": {},
   "outputs": [],
   "source": [
    "plt.plot([2,1,3],[-1,-1,0],'o')\n",
    "plt.show()"
   ]
  },
  {
   "cell_type": "code",
   "execution_count": null,
   "id": "33ae2c18-7cc9-49c5-b0b8-791b6bd0b2df",
   "metadata": {},
   "outputs": [],
   "source": [
    "plt.plot(x, np.sin(x), '-g', label='sin(x)')\n",
    "plt.plot(x, np.cos(x), ':b', label='cos(x)')\n",
    "plt.title(\"une courbe sinusoiale\")\n",
    "plt.xlabel(\"x\")\n",
    "plt.ylabel(\"sin(x)\")\n",
    "plt.legend()\n",
    "plt.show()"
   ]
  },
  {
   "cell_type": "markdown",
   "id": "7518aabc-d171-4669-bf2e-62ab8e063922",
   "metadata": {},
   "source": [
    "On peut aussi faire en forme orienté objet en utilisant :\n",
    "\n",
    "fig, ax = plt.subplots()\n",
    "\n",
    "Intérêt : on peut faire plusieurs graphes dans le même code. \n",
    "\n",
    "Ex : fig, axarray = plt.subplots((2,3)). \n",
    "Ca fait une matrice de grpahiques 2x3. \n",
    "\n",
    "En pratique cette année et l'année prochaine on garde formes fonctionnelles parce que plus simple, mais dès qu'on devra en faire plusieurs il faudra se tourner vers POO. "
   ]
  },
  {
   "cell_type": "markdown",
   "id": "53f28e78-3eb8-4da6-8afd-863be854a673",
   "metadata": {},
   "source": [
    "## Un problème de régression en dimension 1.\n",
    "\n",
    "Scikit-learn. preprocessing bien pour créer des features. "
   ]
  },
  {
   "cell_type": "code",
   "execution_count": null,
   "id": "d849f740-c03f-4d88-959a-3f89867fb430",
   "metadata": {},
   "outputs": [],
   "source": [
    "np.random.random_sample"
   ]
  },
  {
   "cell_type": "code",
   "execution_count": null,
   "id": "7f7e9487-4e6e-45ee-9697-15811dee1b30",
   "metadata": {},
   "outputs": [],
   "source": [
    "x = 2* np.random.random_sample(15) - 1"
   ]
  },
  {
   "cell_type": "code",
   "execution_count": null,
   "id": "377d3405-627c-4379-b6cf-d1967ad897ba",
   "metadata": {},
   "outputs": [],
   "source": [
    "x"
   ]
  },
  {
   "cell_type": "code",
   "execution_count": null,
   "id": "a7684827-b2c6-4e85-b591-54cd33f0b45e",
   "metadata": {},
   "outputs": [],
   "source": [
    "def g(x) : \n",
    "    y = (3/2)*x**3 - x**2 - (3/4)*x + 1\n",
    "    return y"
   ]
  },
  {
   "cell_type": "code",
   "execution_count": null,
   "id": "993b25a9-7f1c-43e5-b0bc-4ff68635d030",
   "metadata": {},
   "outputs": [],
   "source": [
    "zeta = np.random.randn(15)"
   ]
  },
  {
   "cell_type": "code",
   "execution_count": null,
   "id": "9146fd3c-f6d8-4287-8d88-b4b232d78ca0",
   "metadata": {},
   "outputs": [],
   "source": [
    "y = g(x) + 1/20*zeta"
   ]
  },
  {
   "cell_type": "code",
   "execution_count": null,
   "id": "e04bf895-bdff-49b9-ac40-004d6e92978a",
   "metadata": {},
   "outputs": [],
   "source": [
    "plt.plot(x,y, \"o\")"
   ]
  },
  {
   "cell_type": "code",
   "execution_count": null,
   "id": "5e8be608-e4e9-436e-8431-399a41d3eccd",
   "metadata": {},
   "outputs": [],
   "source": [
    "x_test = 2* np.random.random_sample(30) - 1\n",
    "y_test = y = g(x_test) + 1/20*np.random.randn(30)"
   ]
  },
  {
   "cell_type": "code",
   "execution_count": null,
   "id": "6bcc0ae1-91d8-474f-9340-16a9f02e88dd",
   "metadata": {},
   "outputs": [],
   "source": [
    "plt.plot(x_test, y_test, \"o\")\n",
    "plt.show()"
   ]
  },
  {
   "cell_type": "code",
   "execution_count": null,
   "id": "a6ebf991-4598-49c2-95a7-426760428ca2",
   "metadata": {},
   "outputs": [],
   "source": [
    "f = LinearRegression()"
   ]
  },
  {
   "cell_type": "code",
   "execution_count": null,
   "id": "0b92c2f7-79e0-4af0-b771-64458be7f8de",
   "metadata": {},
   "outputs": [],
   "source": []
  }
 ],
 "metadata": {
  "kernelspec": {
   "display_name": "Python 3 (ipykernel)",
   "language": "python",
   "name": "python3"
  },
  "language_info": {
   "codemirror_mode": {
    "name": "ipython",
    "version": 3
   },
   "file_extension": ".py",
   "mimetype": "text/x-python",
   "name": "python",
   "nbconvert_exporter": "python",
   "pygments_lexer": "ipython3",
   "version": "3.11.6"
  }
 },
 "nbformat": 4,
 "nbformat_minor": 5
}
