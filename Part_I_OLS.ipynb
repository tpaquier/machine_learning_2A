{
 "cells": [
  {
   "cell_type": "markdown",
   "id": "b52dddf4-6544-47e4-b384-295a8bd65291",
   "metadata": {},
   "source": [
    "## Introduction a numpy"
   ]
  },
  {
   "cell_type": "code",
   "execution_count": 1,
   "id": "f6e30c82-3f54-4cd7-b723-97c0420e4742",
   "metadata": {},
   "outputs": [],
   "source": [
    "import numpy as np\n",
    "import matplotlib.pyplot as plt\n",
    "from sklearn.linear_model import LinearRegression\n",
    "import pandas as pd\n",
    "import statistics\n",
    "import random"
   ]
  },
  {
   "cell_type": "code",
   "execution_count": 2,
   "id": "6ecb699d-b0bb-4a9c-b172-8a40cce1986b",
   "metadata": {},
   "outputs": [],
   "source": [
    "#setting a seed\n",
    "random.seed(1234567)"
   ]
  },
  {
   "cell_type": "code",
   "execution_count": 3,
   "id": "7a52115a-5e16-49cd-be7d-fed2cdb24b71",
   "metadata": {},
   "outputs": [],
   "source": [
    "a = np.array([1,42,18])\n",
    "b = np.arange(10)\n",
    "c = np.arange(2,5,.5)\n",
    "c = np.linspace(0,1,11)\n",
    "d = np.ones(6)\n",
    "e = np.zeros(5)\n",
    "f = np.full(5,3)"
   ]
  },
  {
   "cell_type": "code",
   "execution_count": 4,
   "id": "0ef2280a-2588-49e7-8499-75fc2dc09aa4",
   "metadata": {},
   "outputs": [
    {
     "data": {
      "text/plain": [
       "array([ 1, 42, 18])"
      ]
     },
     "execution_count": 4,
     "metadata": {},
     "output_type": "execute_result"
    }
   ],
   "source": [
    "a"
   ]
  },
  {
   "cell_type": "code",
   "execution_count": 5,
   "id": "1337164d-07a0-4eab-82a1-4840ba617c6b",
   "metadata": {},
   "outputs": [
    {
     "data": {
      "text/plain": [
       "array([0, 1, 2, 3, 4, 5, 6, 7, 8, 9])"
      ]
     },
     "execution_count": 5,
     "metadata": {},
     "output_type": "execute_result"
    }
   ],
   "source": [
    "b"
   ]
  },
  {
   "cell_type": "code",
   "execution_count": 6,
   "id": "6d3fa061-6664-4cb5-befb-0a0512d8f6fe",
   "metadata": {},
   "outputs": [
    {
     "data": {
      "text/plain": [
       "array([0. , 0.1, 0.2, 0.3, 0.4, 0.5, 0.6, 0.7, 0.8, 0.9, 1. ])"
      ]
     },
     "execution_count": 6,
     "metadata": {},
     "output_type": "execute_result"
    }
   ],
   "source": [
    "c"
   ]
  },
  {
   "cell_type": "code",
   "execution_count": 7,
   "id": "4fc89053-bcf9-45e6-bc7b-bd101a590757",
   "metadata": {},
   "outputs": [
    {
     "data": {
      "text/plain": [
       "array([1., 1., 1., 1., 1., 1.])"
      ]
     },
     "execution_count": 7,
     "metadata": {},
     "output_type": "execute_result"
    }
   ],
   "source": [
    "d"
   ]
  },
  {
   "cell_type": "code",
   "execution_count": 8,
   "id": "7bd4d3b4-e525-4f3f-984a-9fe799fecb92",
   "metadata": {},
   "outputs": [
    {
     "data": {
      "text/plain": [
       "array([3, 3, 3, 3, 3])"
      ]
     },
     "execution_count": 8,
     "metadata": {},
     "output_type": "execute_result"
    }
   ],
   "source": [
    "f"
   ]
  },
  {
   "cell_type": "code",
   "execution_count": 9,
   "id": "1ba0ee92-a686-4798-862d-07227ecc6f19",
   "metadata": {},
   "outputs": [],
   "source": [
    "A = np.array([[1,2,3], [4,5,6], [7,8,9]])\n",
    "B = np.array([1,2,3,4,5,6,7,8,9]).reshape((3,3))"
   ]
  },
  {
   "cell_type": "code",
   "execution_count": 10,
   "id": "81b58d37-4b39-4b64-accc-3e777eaa61e0",
   "metadata": {},
   "outputs": [
    {
     "data": {
      "text/plain": [
       "array([[1, 2, 3],\n",
       "       [4, 5, 6],\n",
       "       [7, 8, 9]])"
      ]
     },
     "execution_count": 10,
     "metadata": {},
     "output_type": "execute_result"
    }
   ],
   "source": [
    "A"
   ]
  },
  {
   "cell_type": "code",
   "execution_count": 11,
   "id": "477ecfa7-8df3-4872-9f79-7b2755ed426b",
   "metadata": {},
   "outputs": [],
   "source": [
    "C = np.ones((2,5))"
   ]
  },
  {
   "cell_type": "code",
   "execution_count": 12,
   "id": "24224f9d-053b-4e43-9548-cc39c62d5db5",
   "metadata": {},
   "outputs": [
    {
     "data": {
      "text/plain": [
       "array([[1., 1., 1., 1., 1.],\n",
       "       [1., 1., 1., 1., 1.]])"
      ]
     },
     "execution_count": 12,
     "metadata": {},
     "output_type": "execute_result"
    }
   ],
   "source": [
    "C"
   ]
  },
  {
   "cell_type": "code",
   "execution_count": 13,
   "id": "35c1785c-8978-416b-b3d2-ac146cb00a34",
   "metadata": {},
   "outputs": [],
   "source": [
    "l = np.concatenate((a,b))\n",
    "m = np.vstack((A,a))\n",
    "n = np.hstack((A,A))"
   ]
  },
  {
   "cell_type": "code",
   "execution_count": 14,
   "id": "f056a484-4b12-47c3-b7ba-53710356c80b",
   "metadata": {},
   "outputs": [
    {
     "data": {
      "text/plain": [
       "array([ 1, 42, 18,  0,  1,  2,  3,  4,  5,  6,  7,  8,  9])"
      ]
     },
     "execution_count": 14,
     "metadata": {},
     "output_type": "execute_result"
    }
   ],
   "source": [
    "l"
   ]
  },
  {
   "cell_type": "code",
   "execution_count": 15,
   "id": "8cfb03af-35c1-4f61-bd51-b8229c72cb47",
   "metadata": {},
   "outputs": [
    {
     "data": {
      "text/plain": [
       "array([[ 1,  2,  3],\n",
       "       [ 4,  5,  6],\n",
       "       [ 7,  8,  9],\n",
       "       [ 1, 42, 18]])"
      ]
     },
     "execution_count": 15,
     "metadata": {},
     "output_type": "execute_result"
    }
   ],
   "source": [
    "m"
   ]
  },
  {
   "cell_type": "code",
   "execution_count": 16,
   "id": "94f1e5e2-c0f2-4824-91cc-83b1e7c1e284",
   "metadata": {},
   "outputs": [
    {
     "data": {
      "text/plain": [
       "array([[1, 2, 3, 1, 2, 3],\n",
       "       [4, 5, 6, 4, 5, 6],\n",
       "       [7, 8, 9, 7, 8, 9]])"
      ]
     },
     "execution_count": 16,
     "metadata": {},
     "output_type": "execute_result"
    }
   ],
   "source": [
    "n"
   ]
  },
  {
   "cell_type": "code",
   "execution_count": 17,
   "id": "7dba5d22-4a4f-433d-90ff-af790f49fd6e",
   "metadata": {},
   "outputs": [
    {
     "data": {
      "text/plain": [
       "array([139, 322, 505])"
      ]
     },
     "execution_count": 17,
     "metadata": {},
     "output_type": "execute_result"
    }
   ],
   "source": [
    "A@a"
   ]
  },
  {
   "cell_type": "code",
   "execution_count": 18,
   "id": "3c3d9095-5872-4186-8cd6-46aafb0731ff",
   "metadata": {},
   "outputs": [
    {
     "data": {
      "text/plain": [
       "array([ 6, 15, 24])"
      ]
     },
     "execution_count": 18,
     "metadata": {},
     "output_type": "execute_result"
    }
   ],
   "source": [
    "A.sum(axis = 1)\n",
    "#somme sur les lignes"
   ]
  },
  {
   "cell_type": "code",
   "execution_count": 19,
   "id": "28f8f617-54f4-4037-aaa3-e1c152fc2ed3",
   "metadata": {},
   "outputs": [
    {
     "data": {
      "text/plain": [
       "array([[1, 2, 3],\n",
       "       [4, 5, 6],\n",
       "       [7, 8, 9]])"
      ]
     },
     "execution_count": 19,
     "metadata": {},
     "output_type": "execute_result"
    }
   ],
   "source": [
    "A"
   ]
  },
  {
   "cell_type": "code",
   "execution_count": 20,
   "id": "e840a5f6-eb60-41c2-80f8-41a32bb71978",
   "metadata": {},
   "outputs": [
    {
     "data": {
      "text/plain": [
       "array([12, 15, 18])"
      ]
     },
     "execution_count": 20,
     "metadata": {},
     "output_type": "execute_result"
    }
   ],
   "source": [
    "A.sum(axis = 0)\n",
    "#somme sur les colonnes"
   ]
  },
  {
   "cell_type": "code",
   "execution_count": 21,
   "id": "3be3837b-ffee-488b-b327-265da75dcb22",
   "metadata": {},
   "outputs": [
    {
     "data": {
      "text/plain": [
       "array([ 1, 42, 18])"
      ]
     },
     "execution_count": 21,
     "metadata": {},
     "output_type": "execute_result"
    }
   ],
   "source": [
    "a"
   ]
  },
  {
   "cell_type": "code",
   "execution_count": 22,
   "id": "9714737d-f3c2-4f1f-94ad-e4825adfa260",
   "metadata": {},
   "outputs": [
    {
     "data": {
      "text/plain": [
       "array([4, 5, 6])"
      ]
     },
     "execution_count": 22,
     "metadata": {},
     "output_type": "execute_result"
    }
   ],
   "source": [
    "A[1]"
   ]
  },
  {
   "cell_type": "code",
   "execution_count": 23,
   "id": "ab5a2e10-c819-4d44-86f7-3ee7f1bce17c",
   "metadata": {},
   "outputs": [
    {
     "data": {
      "text/plain": [
       "array([2, 5, 8])"
      ]
     },
     "execution_count": 23,
     "metadata": {},
     "output_type": "execute_result"
    }
   ],
   "source": [
    "A.T[1]"
   ]
  },
  {
   "cell_type": "code",
   "execution_count": 24,
   "id": "57cd1c56-1a07-49ad-91e5-1980154f8f0b",
   "metadata": {},
   "outputs": [],
   "source": [
    "f = np.array([2,3])\n",
    "g = np.array([1.5, 3])"
   ]
  },
  {
   "cell_type": "code",
   "execution_count": 25,
   "id": "bf972a4d-2c54-47d1-a689-c8fc1c8a61dd",
   "metadata": {},
   "outputs": [
    {
     "data": {
      "text/plain": [
       "array([3.5, 6. ])"
      ]
     },
     "execution_count": 25,
     "metadata": {},
     "output_type": "execute_result"
    }
   ],
   "source": [
    "f+g"
   ]
  },
  {
   "cell_type": "code",
   "execution_count": 26,
   "id": "810aaf63-6b78-474d-82e4-f9547f14d2df",
   "metadata": {},
   "outputs": [
    {
     "data": {
      "text/plain": [
       "array([3., 9.])"
      ]
     },
     "execution_count": 26,
     "metadata": {},
     "output_type": "execute_result"
    }
   ],
   "source": [
    "f*g"
   ]
  },
  {
   "cell_type": "code",
   "execution_count": 27,
   "id": "fbd01595-f946-4cce-a6a0-52d08892d1b7",
   "metadata": {},
   "outputs": [
    {
     "data": {
      "text/plain": [
       "array([ 2.82842712, 27.        ])"
      ]
     },
     "execution_count": 27,
     "metadata": {},
     "output_type": "execute_result"
    }
   ],
   "source": [
    "f**g"
   ]
  },
  {
   "cell_type": "code",
   "execution_count": 28,
   "id": "52d9ca6d-f790-4e5a-bd00-8b4e3ad6174f",
   "metadata": {},
   "outputs": [
    {
     "data": {
      "text/plain": [
       "2.25"
      ]
     },
     "execution_count": 28,
     "metadata": {},
     "output_type": "execute_result"
    }
   ],
   "source": [
    "1.5**2"
   ]
  },
  {
   "cell_type": "code",
   "execution_count": 29,
   "id": "f592ca8f-0b78-448e-9347-eea76108b574",
   "metadata": {},
   "outputs": [
    {
     "data": {
      "text/plain": [
       "2.8284271247461903"
      ]
     },
     "execution_count": 29,
     "metadata": {},
     "output_type": "execute_result"
    }
   ],
   "source": [
    "2**1.5"
   ]
  },
  {
   "cell_type": "code",
   "execution_count": 30,
   "id": "0480b96e-920e-4a49-8190-2582c7772566",
   "metadata": {},
   "outputs": [
    {
     "data": {
      "text/plain": [
       "array([False,  True])"
      ]
     },
     "execution_count": 30,
     "metadata": {},
     "output_type": "execute_result"
    }
   ],
   "source": [
    "f == g"
   ]
  },
  {
   "cell_type": "code",
   "execution_count": 31,
   "id": "9a636e7f-ce8a-4db5-b6d6-12355509b01b",
   "metadata": {},
   "outputs": [
    {
     "data": {
      "text/plain": [
       "array([False, False])"
      ]
     },
     "execution_count": 31,
     "metadata": {},
     "output_type": "execute_result"
    }
   ],
   "source": [
    "f < g"
   ]
  },
  {
   "cell_type": "code",
   "execution_count": 32,
   "id": "ee156c75-b261-4e49-9640-5ff674c60de7",
   "metadata": {},
   "outputs": [
    {
     "data": {
      "text/plain": [
       "array([False,  True])"
      ]
     },
     "execution_count": 32,
     "metadata": {},
     "output_type": "execute_result"
    }
   ],
   "source": [
    "f <= g"
   ]
  },
  {
   "cell_type": "code",
   "execution_count": 33,
   "id": "d99f862d-96ec-401b-ae77-ebbcb2c02dd4",
   "metadata": {},
   "outputs": [
    {
     "data": {
      "text/plain": [
       "array([0, 1, 2, 3, 4, 5, 6, 7, 8, 9])"
      ]
     },
     "execution_count": 33,
     "metadata": {},
     "output_type": "execute_result"
    }
   ],
   "source": [
    "b"
   ]
  },
  {
   "cell_type": "code",
   "execution_count": 34,
   "id": "7ecd91f1-2875-43ba-8917-17e1d8964ada",
   "metadata": {},
   "outputs": [
    {
     "data": {
      "text/plain": [
       "array([0, 1, 2, 3, 4, 5, 6, 7, 8, 9])"
      ]
     },
     "execution_count": 34,
     "metadata": {},
     "output_type": "execute_result"
    }
   ],
   "source": [
    "b[:]"
   ]
  },
  {
   "cell_type": "code",
   "execution_count": 35,
   "id": "77ecb314-2e74-441a-bdcd-11333fbcd587",
   "metadata": {},
   "outputs": [
    {
     "data": {
      "text/plain": [
       "array([1, 3, 5, 7])"
      ]
     },
     "execution_count": 35,
     "metadata": {},
     "output_type": "execute_result"
    }
   ],
   "source": [
    "b[1:8:2]"
   ]
  },
  {
   "cell_type": "code",
   "execution_count": 36,
   "id": "2341ed72-7c33-4fbc-bdc9-ba520d666270",
   "metadata": {},
   "outputs": [
    {
     "data": {
      "text/plain": [
       "array([0, 1, 2, 3, 4, 5, 6, 7, 8])"
      ]
     },
     "execution_count": 36,
     "metadata": {},
     "output_type": "execute_result"
    }
   ],
   "source": [
    "b[:-1]\n",
    "#on enleve le dernier?"
   ]
  },
  {
   "cell_type": "code",
   "execution_count": 37,
   "id": "9d2c45dd-4295-4bd5-91b7-f34304abc300",
   "metadata": {},
   "outputs": [
    {
     "data": {
      "text/plain": [
       "array([0, 1, 2, 3, 4, 5, 6, 7, 8, 9])"
      ]
     },
     "execution_count": 37,
     "metadata": {},
     "output_type": "execute_result"
    }
   ],
   "source": [
    "b"
   ]
  },
  {
   "cell_type": "markdown",
   "id": "45cf6724-4697-4d68-871e-41d76ac63252",
   "metadata": {},
   "source": [
    "### Rappels Nunmpy\n",
    "\n",
    "Si on a un array de 5 dimension et qu'on prend les M[i,j,k,l] ça nous renvoie une liste.\n",
    "\n",
    "Broadcasting : si on fait M*M', si ça a la même dimension ça fait coordonnée par coordonée, sinon ça fait en sorte que l'indice commun puisse être utilsié pour le produit.\n",
    "\n",
    "M.shape --> pour bien vérifier la taille.\n",
    "dim(A) = k*l*m\n",
    "A.sum(axis = 0) --> l*m\n",
    "\n",
    "Source d'erreur, se tromper sur la différence entre une méthode et une fonction. Et la dimension.\n",
    "\n",
    "Si on a une matrice m, valeurs vraies ou fausses.\n",
    "\n",
    "M = np.array(Q, type = boolean)\n",
    "\n",
    "M == True, ça va plater parce qu'on a pas précisé comment on la faisait les vérifications. \n",
    "Si array de taille 3 par 2, on aura une matrice 2,2."
   ]
  },
  {
   "cell_type": "code",
   "execution_count": 38,
   "id": "0f42f195-77c6-4108-a3fe-aab323c3d7ba",
   "metadata": {},
   "outputs": [],
   "source": [
    "test = np.arange(21)"
   ]
  },
  {
   "cell_type": "code",
   "execution_count": 39,
   "id": "45d2d36e-e3c6-4305-9be2-16321ea0f49f",
   "metadata": {},
   "outputs": [],
   "source": [
    "test = np.delete(test,0)"
   ]
  },
  {
   "cell_type": "code",
   "execution_count": 40,
   "id": "340eb09a-7ecf-458d-a543-205eefc68b29",
   "metadata": {},
   "outputs": [],
   "source": [
    "matrix = test.reshape((5,4))"
   ]
  },
  {
   "cell_type": "code",
   "execution_count": 41,
   "id": "f73c1af7-1466-42f3-bc87-86f1a5666696",
   "metadata": {},
   "outputs": [],
   "source": [
    "matrix = matrix.T"
   ]
  },
  {
   "cell_type": "code",
   "execution_count": 42,
   "id": "4fbcd566-2281-424e-9ac9-344c8c704dd1",
   "metadata": {},
   "outputs": [],
   "source": [
    "petit = matrix[0:3]"
   ]
  },
  {
   "cell_type": "code",
   "execution_count": 43,
   "id": "0341dc84-a6fc-4541-9d8e-41e173dd81f0",
   "metadata": {},
   "outputs": [],
   "source": [
    "petit = petit[[1,2,0], :][:, [1,4,2]]"
   ]
  },
  {
   "cell_type": "code",
   "execution_count": 44,
   "id": "17c88de1-ded9-416c-9b99-b7184f3dc696",
   "metadata": {},
   "outputs": [],
   "source": [
    "extract = np.hstack((petit[0], petit[1], petit[2]))"
   ]
  },
  {
   "cell_type": "code",
   "execution_count": 45,
   "id": "06e56f22-1200-4e7e-8e1c-ebfe49682bb2",
   "metadata": {},
   "outputs": [
    {
     "data": {
      "text/plain": [
       "array([[ 6, 18, 10],\n",
       "       [ 7, 19, 11],\n",
       "       [ 5, 17,  9]])"
      ]
     },
     "execution_count": 45,
     "metadata": {},
     "output_type": "execute_result"
    }
   ],
   "source": [
    "extract.reshape((3,3))"
   ]
  },
  {
   "cell_type": "markdown",
   "id": "08938987-4ba6-4587-93ee-837d351030b3",
   "metadata": {},
   "source": [
    "## Matplotlib"
   ]
  },
  {
   "cell_type": "markdown",
   "id": "38952400-4bab-4ada-8943-c81eafe85f6c",
   "metadata": {},
   "source": [
    "plot(x,y)\n",
    "\n",
    "Comportement de base, python va prendre toutes les paires xi, yi et tracer des lignes entre donc si on a des x qui sont pas ordonnés ça va pas très très bien marcher, (exemple ci-après).\n",
    "\n",
    "Ou d'autres fonctions.\n",
    "\n",
    "Pour générer une grille sur les x --> on utilise linspace. Régulièrement espacés pour euclidiens. \n",
    "Ou alors logspace, régulièrement espacé pour log."
   ]
  },
  {
   "cell_type": "code",
   "execution_count": 46,
   "id": "6058ba80-4d48-408a-9211-c9daae1a88f6",
   "metadata": {},
   "outputs": [
    {
     "data": {
      "text/plain": [
       "[<matplotlib.lines.Line2D at 0x7f46285e0ad0>]"
      ]
     },
     "execution_count": 46,
     "metadata": {},
     "output_type": "execute_result"
    },
    {
     "data": {
      "image/png": "[encoded data removed]",
      "text/plain": [
       "<Figure size 640x480 with 1 Axes>"
      ]
     },
     "metadata": {},
     "output_type": "display_data"
    }
   ],
   "source": [
    "x = (1,-1,2)\n",
    "y = (0,3,-2)\n",
    "plt.plot(x,y)"
   ]
  },
  {
   "cell_type": "code",
   "execution_count": 47,
   "id": "b8233006-f643-4cc5-addd-e481bf71747d",
   "metadata": {},
   "outputs": [
    {
     "data": {
      "text/plain": [
       "[<matplotlib.lines.Line2D at 0x7f43c0b18410>]"
      ]
     },
     "execution_count": 47,
     "metadata": {},
     "output_type": "execute_result"
    },
    {
     "data": {
      "image/png": "[encoded data removed]",
      "text/plain": [
       "<Figure size 640x480 with 1 Axes>"
      ]
     },
     "metadata": {},
     "output_type": "display_data"
    }
   ],
   "source": [
    "plt.plot(y)"
   ]
  },
  {
   "cell_type": "code",
   "execution_count": 48,
   "id": "2c921856-a321-4f70-bdb9-cbc4abbe718f",
   "metadata": {},
   "outputs": [],
   "source": [
    "x = np.linspace(0,4,10)"
   ]
  },
  {
   "cell_type": "code",
   "execution_count": 49,
   "id": "5a38880b-1e32-4995-a6a2-eecb732be235",
   "metadata": {},
   "outputs": [],
   "source": [
    "y = np.sin(x)"
   ]
  },
  {
   "cell_type": "code",
   "execution_count": 50,
   "id": "0f4d9400-584a-46a0-a3be-9525f453833f",
   "metadata": {},
   "outputs": [
    {
     "data": {
      "image/png": "[encoded data removed]",
      "text/plain": [
       "<Figure size 640x480 with 1 Axes>"
      ]
     },
     "metadata": {},
     "output_type": "display_data"
    }
   ],
   "source": [
    "plt.plot(x, y)\n",
    "plt.show()"
   ]
  },
  {
   "cell_type": "code",
   "execution_count": 51,
   "id": "82c9fd51-db27-449a-ac80-07d11209f42c",
   "metadata": {},
   "outputs": [
    {
     "data": {
      "image/png": "[encoded data removed]",
      "text/plain": [
       "<Figure size 640x480 with 1 Axes>"
      ]
     },
     "metadata": {},
     "output_type": "display_data"
    }
   ],
   "source": [
    "x = np.linspace(0, 10, 1000)\n",
    "plt.plot(x, np.sin(x))\n",
    "plt.plot(x, np.cos(x))\n",
    "plt.show()"
   ]
  },
  {
   "cell_type": "code",
   "execution_count": 52,
   "id": "a71ff994-b2da-4b10-87c2-88176e664b51",
   "metadata": {},
   "outputs": [
    {
     "data": {
      "image/png": "[encoded data removed]",
      "text/plain": [
       "<Figure size 640x480 with 1 Axes>"
      ]
     },
     "metadata": {},
     "output_type": "display_data"
    }
   ],
   "source": [
    "plt.plot(x, np.sin(x), \"-.k\")\n",
    "plt.axis([0, 5, -0.5, 0.5])\n",
    "plt.show()\n",
    "#plt.axis permet de definir les limites des axes que l on veut utilsier\n",
    "#et on peut mettre un paramètre textuel dans le plt.plot"
   ]
  },
  {
   "cell_type": "code",
   "execution_count": 53,
   "id": "43837f9c-2144-4df6-8234-fe49d0a0aa59",
   "metadata": {},
   "outputs": [
    {
     "data": {
      "image/png": "[encoded data removed]",
      "text/plain": [
       "<Figure size 640x480 with 1 Axes>"
      ]
     },
     "metadata": {},
     "output_type": "display_data"
    }
   ],
   "source": [
    "plt.plot([2,1,3],[-1,-1,0],'o')\n",
    "plt.show()"
   ]
  },
  {
   "cell_type": "code",
   "execution_count": 54,
   "id": "33ae2c18-7cc9-49c5-b0b8-791b6bd0b2df",
   "metadata": {},
   "outputs": [
    {
     "data": {
      "image/png": "[encoded data removed]",
      "text/plain": [
       "<Figure size 640x480 with 1 Axes>"
      ]
     },
     "metadata": {},
     "output_type": "display_data"
    }
   ],
   "source": [
    "plt.plot(x, np.sin(x), '-g', label='sin(x)')\n",
    "plt.plot(x, np.cos(x), ':b', label='cos(x)')\n",
    "plt.title(\"une courbe sinusoiale\")\n",
    "plt.xlabel(\"x\")\n",
    "plt.ylabel(\"sin(x)\")\n",
    "plt.legend()\n",
    "plt.show()"
   ]
  },
  {
   "cell_type": "markdown",
   "id": "7518aabc-d171-4669-bf2e-62ab8e063922",
   "metadata": {},
   "source": [
    "On peut aussi faire en forme orienté objet en utilisant :\n",
    "\n",
    "fig, ax = plt.subplots()\n",
    "\n",
    "Intérêt : on peut faire plusieurs graphes dans le même code. \n",
    "\n",
    "Ex : fig, axarray = plt.subplots((2,3)). \n",
    "Ca fait une matrice de grpahiques 2x3. \n",
    "\n",
    "En pratique cette année et l'année prochaine on garde formes fonctionnelles parce que plus simple, mais dès qu'on devra en faire plusieurs il faudra se tourner vers POO. "
   ]
  },
  {
   "cell_type": "markdown",
   "id": "53f28e78-3eb8-4da6-8afd-863be854a673",
   "metadata": {},
   "source": [
    "## Un problème de régression en dimension 1.\n",
    "\n",
    "Scikit-learn. preprocessing bien pour créer des features. "
   ]
  },
  {
   "cell_type": "code",
   "execution_count": 55,
   "id": "d849f740-c03f-4d88-959a-3f89867fb430",
   "metadata": {},
   "outputs": [
    {
     "data": {
      "text/plain": [
       "<function RandomState.random_sample>"
      ]
     },
     "execution_count": 55,
     "metadata": {},
     "output_type": "execute_result"
    }
   ],
   "source": [
    "np.random.random_sample"
   ]
  },
  {
   "cell_type": "code",
   "execution_count": 56,
   "id": "7f7e9487-4e6e-45ee-9697-15811dee1b30",
   "metadata": {},
   "outputs": [],
   "source": [
    "x = 2* np.random.random_sample(15) - 1"
   ]
  },
  {
   "cell_type": "code",
   "execution_count": 57,
   "id": "377d3405-627c-4379-b6cf-d1967ad897ba",
   "metadata": {},
   "outputs": [
    {
     "data": {
      "text/plain": [
       "array([ 0.11666973, -0.21951071,  0.93541971, -0.43901802, -0.49936803,\n",
       "       -0.96268824,  0.89719097,  0.25084578, -0.34567607, -0.4709501 ,\n",
       "       -0.23174997,  0.07735165,  0.10509854,  0.67775431, -0.06875629])"
      ]
     },
     "execution_count": 57,
     "metadata": {},
     "output_type": "execute_result"
    }
   ],
   "source": [
    "x"
   ]
  },
  {
   "cell_type": "code",
   "execution_count": 58,
   "id": "a7684827-b2c6-4e85-b591-54cd33f0b45e",
   "metadata": {},
   "outputs": [],
   "source": [
    "def g(x) : \n",
    "    y = (3/2)*x**3 - x**2 - (3/4)*x + 1\n",
    "    return y"
   ]
  },
  {
   "cell_type": "code",
   "execution_count": 59,
   "id": "993b25a9-7f1c-43e5-b0bc-4ff68635d030",
   "metadata": {},
   "outputs": [],
   "source": [
    "zeta = np.random.randn(15)"
   ]
  },
  {
   "cell_type": "code",
   "execution_count": 60,
   "id": "9146fd3c-f6d8-4287-8d88-b4b232d78ca0",
   "metadata": {},
   "outputs": [],
   "source": [
    "y = g(x) + 1/20*zeta"
   ]
  },
  {
   "cell_type": "code",
   "execution_count": 61,
   "id": "e04bf895-bdff-49b9-ac40-004d6e92978a",
   "metadata": {},
   "outputs": [
    {
     "data": {
      "text/plain": [
       "[<matplotlib.lines.Line2D at 0x7f43c0970150>]"
      ]
     },
     "execution_count": 61,
     "metadata": {},
     "output_type": "execute_result"
    },
    {
     "data": {
      "image/png": "[encoded data removed]",
      "text/plain": [
       "<Figure size 640x480 with 1 Axes>"
      ]
     },
     "metadata": {},
     "output_type": "display_data"
    }
   ],
   "source": [
    "plt.plot(x,y, \"o\")"
   ]
  },
  {
   "cell_type": "code",
   "execution_count": 62,
   "id": "5e8be608-e4e9-436e-8431-399a41d3eccd",
   "metadata": {},
   "outputs": [],
   "source": [
    "x_test = 2* np.random.random_sample(30) - 1\n",
    "y_test = g(x_test) + 1/20*np.random.randn(30)"
   ]
  },
  {
   "cell_type": "code",
   "execution_count": 63,
   "id": "6bcc0ae1-91d8-474f-9340-16a9f02e88dd",
   "metadata": {},
   "outputs": [
    {
     "data": {
      "image/png": "[encoded data removed]",
      "text/plain": [
       "<Figure size 640x480 with 1 Axes>"
      ]
     },
     "metadata": {},
     "output_type": "display_data"
    }
   ],
   "source": [
    "plt.plot(x_test, y_test, \"o\")\n",
    "plt.show()"
   ]
  },
  {
   "cell_type": "code",
   "execution_count": 64,
   "id": "a6ebf991-4598-49c2-95a7-426760428ca2",
   "metadata": {},
   "outputs": [],
   "source": [
    "f = LinearRegression()"
   ]
  },
  {
   "cell_type": "code",
   "execution_count": 65,
   "id": "0b92c2f7-79e0-4af0-b771-64458be7f8de",
   "metadata": {},
   "outputs": [],
   "source": [
    "X = x[:,np.newaxis]\n",
    "X_test = x_test[:,np.newaxis]"
   ]
  },
  {
   "cell_type": "code",
   "execution_count": 66,
   "id": "7e3548e2-5c21-44d2-ac87-f85c858fb8cd",
   "metadata": {},
   "outputs": [
    {
     "data": {
      "text/html": [
       "<style>#sk-container-id-1 {\n",
       "  /* Definition of color scheme common for light and dark mode */\n",
       "  --sklearn-color-text: black;\n",
       "  --sklearn-color-line: gray;\n",
       "  /* Definition of color scheme for unfitted estimators */\n",
       "  --sklearn-color-unfitted-level-0: #fff5e6;\n",
       "  --sklearn-color-unfitted-level-1: #f6e4d2;\n",
       "  --sklearn-color-unfitted-level-2: #ffe0b3;\n",
       "  --sklearn-color-unfitted-level-3: chocolate;\n",
       "  /* Definition of color scheme for fitted estimators */\n",
       "  --sklearn-color-fitted-level-0: #f0f8ff;\n",
       "  --sklearn-color-fitted-level-1: #d4ebff;\n",
       "  --sklearn-color-fitted-level-2: #b3dbfd;\n",
       "  --sklearn-color-fitted-level-3: cornflowerblue;\n",
       "\n",
       "  /* Specific color for light theme */\n",
       "  --sklearn-color-text-on-default-background: var(--sg-text-color, var(--theme-code-foreground, var(--jp-content-font-color1, black)));\n",
       "  --sklearn-color-background: var(--sg-background-color, var(--theme-background, var(--jp-layout-color0, white)));\n",
       "  --sklearn-color-border-box: var(--sg-text-color, var(--theme-code-foreground, var(--jp-content-font-color1, black)));\n",
       "  --sklearn-color-icon: #696969;\n",
       "\n",
       "  @media (prefers-color-scheme: dark) {\n",
       "    /* Redefinition of color scheme for dark theme */\n",
       "    --sklearn-color-text-on-default-background: var(--sg-text-color, var(--theme-code-foreground, var(--jp-content-font-color1, white)));\n",
       "    --sklearn-color-background: var(--sg-background-color, var(--theme-background, var(--jp-layout-color0, #111)));\n",
       "    --sklearn-color-border-box: var(--sg-text-color, var(--theme-code-foreground, var(--jp-content-font-color1, white)));\n",
       "    --sklearn-color-icon: #878787;\n",
       "  }\n",
       "}\n",
       "\n",
       "#sk-container-id-1 {\n",
       "  color: var(--sklearn-color-text);\n",
       "}\n",
       "\n",
       "#sk-container-id-1 pre {\n",
       "  padding: 0;\n",
       "}\n",
       "\n",
       "#sk-container-id-1 input.sk-hidden--visually {\n",
       "  border: 0;\n",
       "  clip: rect(1px 1px 1px 1px);\n",
       "  clip: rect(1px, 1px, 1px, 1px);\n",
       "  height: 1px;\n",
       "  margin: -1px;\n",
       "  overflow: hidden;\n",
       "  padding: 0;\n",
       "  position: absolute;\n",
       "  width: 1px;\n",
       "}\n",
       "\n",
       "#sk-container-id-1 div.sk-dashed-wrapped {\n",
       "  border: 1px dashed var(--sklearn-color-line);\n",
       "  margin: 0 0.4em 0.5em 0.4em;\n",
       "  box-sizing: border-box;\n",
       "  padding-bottom: 0.4em;\n",
       "  background-color: var(--sklearn-color-background);\n",
       "}\n",
       "\n",
       "#sk-container-id-1 div.sk-container {\n",
       "  /* jupyter's `normalize.less` sets `[hidden] { display: none; }`\n",
       "     but bootstrap.min.css set `[hidden] { display: none !important; }`\n",
       "     so we also need the `!important` here to be able to override the\n",
       "     default hidden behavior on the sphinx rendered scikit-learn.org.\n",
       "     See: https://github.com/scikit-learn/scikit-learn/issues/21755 */\n",
       "  display: inline-block !important;\n",
       "  position: relative;\n",
       "}\n",
       "\n",
       "#sk-container-id-1 div.sk-text-repr-fallback {\n",
       "  display: none;\n",
       "}\n",
       "\n",
       "div.sk-parallel-item,\n",
       "div.sk-serial,\n",
       "div.sk-item {\n",
       "  /* draw centered vertical line to link estimators */\n",
       "  background-image: linear-gradient(var(--sklearn-color-text-on-default-background), var(--sklearn-color-text-on-default-background));\n",
       "  background-size: 2px 100%;\n",
       "  background-repeat: no-repeat;\n",
       "  background-position: center center;\n",
       "}\n",
       "\n",
       "/* Parallel-specific style estimator block */\n",
       "\n",
       "#sk-container-id-1 div.sk-parallel-item::after {\n",
       "  content: \"\";\n",
       "  width: 100%;\n",
       "  border-bottom: 2px solid var(--sklearn-color-text-on-default-background);\n",
       "  flex-grow: 1;\n",
       "}\n",
       "\n",
       "#sk-container-id-1 div.sk-parallel {\n",
       "  display: flex;\n",
       "  align-items: stretch;\n",
       "  justify-content: center;\n",
       "  background-color: var(--sklearn-color-background);\n",
       "  position: relative;\n",
       "}\n",
       "\n",
       "#sk-container-id-1 div.sk-parallel-item {\n",
       "  display: flex;\n",
       "  flex-direction: column;\n",
       "}\n",
       "\n",
       "#sk-container-id-1 div.sk-parallel-item:first-child::after {\n",
       "  align-self: flex-end;\n",
       "  width: 50%;\n",
       "}\n",
       "\n",
       "#sk-container-id-1 div.sk-parallel-item:last-child::after {\n",
       "  align-self: flex-start;\n",
       "  width: 50%;\n",
       "}\n",
       "\n",
       "#sk-container-id-1 div.sk-parallel-item:only-child::after {\n",
       "  width: 0;\n",
       "}\n",
       "\n",
       "/* Serial-specific style estimator block */\n",
       "\n",
       "#sk-container-id-1 div.sk-serial {\n",
       "  display: flex;\n",
       "  flex-direction: column;\n",
       "  align-items: center;\n",
       "  background-color: var(--sklearn-color-background);\n",
       "  padding-right: 1em;\n",
       "  padding-left: 1em;\n",
       "}\n",
       "\n",
       "\n",
       "/* Toggleable style: style used for estimator/Pipeline/ColumnTransformer box that is\n",
       "clickable and can be expanded/collapsed.\n",
       "- Pipeline and ColumnTransformer use this feature and define the default style\n",
       "- Estimators will overwrite some part of the style using the `sk-estimator` class\n",
       "*/\n",
       "\n",
       "/* Pipeline and ColumnTransformer style (default) */\n",
       "\n",
       "#sk-container-id-1 div.sk-toggleable {\n",
       "  /* Default theme specific background. It is overwritten whether we have a\n",
       "  specific estimator or a Pipeline/ColumnTransformer */\n",
       "  background-color: var(--sklearn-color-background);\n",
       "}\n",
       "\n",
       "/* Toggleable label */\n",
       "#sk-container-id-1 label.sk-toggleable__label {\n",
       "  cursor: pointer;\n",
       "  display: block;\n",
       "  width: 100%;\n",
       "  margin-bottom: 0;\n",
       "  padding: 0.5em;\n",
       "  box-sizing: border-box;\n",
       "  text-align: center;\n",
       "}\n",
       "\n",
       "#sk-container-id-1 label.sk-toggleable__label-arrow:before {\n",
       "  /* Arrow on the left of the label */\n",
       "  content: \"▸\";\n",
       "  float: left;\n",
       "  margin-right: 0.25em;\n",
       "  color: var(--sklearn-color-icon);\n",
       "}\n",
       "\n",
       "#sk-container-id-1 label.sk-toggleable__label-arrow:hover:before {\n",
       "  color: var(--sklearn-color-text);\n",
       "}\n",
       "\n",
       "/* Toggleable content - dropdown */\n",
       "\n",
       "#sk-container-id-1 div.sk-toggleable__content {\n",
       "  max-height: 0;\n",
       "  max-width: 0;\n",
       "  overflow: hidden;\n",
       "  text-align: left;\n",
       "  /* unfitted */\n",
       "  background-color: var(--sklearn-color-unfitted-level-0);\n",
       "}\n",
       "\n",
       "#sk-container-id-1 div.sk-toggleable__content.fitted {\n",
       "  /* fitted */\n",
       "  background-color: var(--sklearn-color-fitted-level-0);\n",
       "}\n",
       "\n",
       "#sk-container-id-1 div.sk-toggleable__content pre {\n",
       "  margin: 0.2em;\n",
       "  border-radius: 0.25em;\n",
       "  color: var(--sklearn-color-text);\n",
       "  /* unfitted */\n",
       "  background-color: var(--sklearn-color-unfitted-level-0);\n",
       "}\n",
       "\n",
       "#sk-container-id-1 div.sk-toggleable__content.fitted pre {\n",
       "  /* unfitted */\n",
       "  background-color: var(--sklearn-color-fitted-level-0);\n",
       "}\n",
       "\n",
       "#sk-container-id-1 input.sk-toggleable__control:checked~div.sk-toggleable__content {\n",
       "  /* Expand drop-down */\n",
       "  max-height: 200px;\n",
       "  max-width: 100%;\n",
       "  overflow: auto;\n",
       "}\n",
       "\n",
       "#sk-container-id-1 input.sk-toggleable__control:checked~label.sk-toggleable__label-arrow:before {\n",
       "  content: \"▾\";\n",
       "}\n",
       "\n",
       "/* Pipeline/ColumnTransformer-specific style */\n",
       "\n",
       "#sk-container-id-1 div.sk-label input.sk-toggleable__control:checked~label.sk-toggleable__label {\n",
       "  color: var(--sklearn-color-text);\n",
       "  background-color: var(--sklearn-color-unfitted-level-2);\n",
       "}\n",
       "\n",
       "#sk-container-id-1 div.sk-label.fitted input.sk-toggleable__control:checked~label.sk-toggleable__label {\n",
       "  background-color: var(--sklearn-color-fitted-level-2);\n",
       "}\n",
       "\n",
       "/* Estimator-specific style */\n",
       "\n",
       "/* Colorize estimator box */\n",
       "#sk-container-id-1 div.sk-estimator input.sk-toggleable__control:checked~label.sk-toggleable__label {\n",
       "  /* unfitted */\n",
       "  background-color: var(--sklearn-color-unfitted-level-2);\n",
       "}\n",
       "\n",
       "#sk-container-id-1 div.sk-estimator.fitted input.sk-toggleable__control:checked~label.sk-toggleable__label {\n",
       "  /* fitted */\n",
       "  background-color: var(--sklearn-color-fitted-level-2);\n",
       "}\n",
       "\n",
       "#sk-container-id-1 div.sk-label label.sk-toggleable__label,\n",
       "#sk-container-id-1 div.sk-label label {\n",
       "  /* The background is the default theme color */\n",
       "  color: var(--sklearn-color-text-on-default-background);\n",
       "}\n",
       "\n",
       "/* On hover, darken the color of the background */\n",
       "#sk-container-id-1 div.sk-label:hover label.sk-toggleable__label {\n",
       "  color: var(--sklearn-color-text);\n",
       "  background-color: var(--sklearn-color-unfitted-level-2);\n",
       "}\n",
       "\n",
       "/* Label box, darken color on hover, fitted */\n",
       "#sk-container-id-1 div.sk-label.fitted:hover label.sk-toggleable__label.fitted {\n",
       "  color: var(--sklearn-color-text);\n",
       "  background-color: var(--sklearn-color-fitted-level-2);\n",
       "}\n",
       "\n",
       "/* Estimator label */\n",
       "\n",
       "#sk-container-id-1 div.sk-label label {\n",
       "  font-family: monospace;\n",
       "  font-weight: bold;\n",
       "  display: inline-block;\n",
       "  line-height: 1.2em;\n",
       "}\n",
       "\n",
       "#sk-container-id-1 div.sk-label-container {\n",
       "  text-align: center;\n",
       "}\n",
       "\n",
       "/* Estimator-specific */\n",
       "#sk-container-id-1 div.sk-estimator {\n",
       "  font-family: monospace;\n",
       "  border: 1px dotted var(--sklearn-color-border-box);\n",
       "  border-radius: 0.25em;\n",
       "  box-sizing: border-box;\n",
       "  margin-bottom: 0.5em;\n",
       "  /* unfitted */\n",
       "  background-color: var(--sklearn-color-unfitted-level-0);\n",
       "}\n",
       "\n",
       "#sk-container-id-1 div.sk-estimator.fitted {\n",
       "  /* fitted */\n",
       "  background-color: var(--sklearn-color-fitted-level-0);\n",
       "}\n",
       "\n",
       "/* on hover */\n",
       "#sk-container-id-1 div.sk-estimator:hover {\n",
       "  /* unfitted */\n",
       "  background-color: var(--sklearn-color-unfitted-level-2);\n",
       "}\n",
       "\n",
       "#sk-container-id-1 div.sk-estimator.fitted:hover {\n",
       "  /* fitted */\n",
       "  background-color: var(--sklearn-color-fitted-level-2);\n",
       "}\n",
       "\n",
       "/* Specification for estimator info (e.g. \"i\" and \"?\") */\n",
       "\n",
       "/* Common style for \"i\" and \"?\" */\n",
       "\n",
       ".sk-estimator-doc-link,\n",
       "a:link.sk-estimator-doc-link,\n",
       "a:visited.sk-estimator-doc-link {\n",
       "  float: right;\n",
       "  font-size: smaller;\n",
       "  line-height: 1em;\n",
       "  font-family: monospace;\n",
       "  background-color: var(--sklearn-color-background);\n",
       "  border-radius: 1em;\n",
       "  height: 1em;\n",
       "  width: 1em;\n",
       "  text-decoration: none !important;\n",
       "  margin-left: 1ex;\n",
       "  /* unfitted */\n",
       "  border: var(--sklearn-color-unfitted-level-1) 1pt solid;\n",
       "  color: var(--sklearn-color-unfitted-level-1);\n",
       "}\n",
       "\n",
       ".sk-estimator-doc-link.fitted,\n",
       "a:link.sk-estimator-doc-link.fitted,\n",
       "a:visited.sk-estimator-doc-link.fitted {\n",
       "  /* fitted */\n",
       "  border: var(--sklearn-color-fitted-level-1) 1pt solid;\n",
       "  color: var(--sklearn-color-fitted-level-1);\n",
       "}\n",
       "\n",
       "/* On hover */\n",
       "div.sk-estimator:hover .sk-estimator-doc-link:hover,\n",
       ".sk-estimator-doc-link:hover,\n",
       "div.sk-label-container:hover .sk-estimator-doc-link:hover,\n",
       ".sk-estimator-doc-link:hover {\n",
       "  /* unfitted */\n",
       "  background-color: var(--sklearn-color-unfitted-level-3);\n",
       "  color: var(--sklearn-color-background);\n",
       "  text-decoration: none;\n",
       "}\n",
       "\n",
       "div.sk-estimator.fitted:hover .sk-estimator-doc-link.fitted:hover,\n",
       ".sk-estimator-doc-link.fitted:hover,\n",
       "div.sk-label-container:hover .sk-estimator-doc-link.fitted:hover,\n",
       ".sk-estimator-doc-link.fitted:hover {\n",
       "  /* fitted */\n",
       "  background-color: var(--sklearn-color-fitted-level-3);\n",
       "  color: var(--sklearn-color-background);\n",
       "  text-decoration: none;\n",
       "}\n",
       "\n",
       "/* Span, style for the box shown on hovering the info icon */\n",
       ".sk-estimator-doc-link span {\n",
       "  display: none;\n",
       "  z-index: 9999;\n",
       "  position: relative;\n",
       "  font-weight: normal;\n",
       "  right: .2ex;\n",
       "  padding: .5ex;\n",
       "  margin: .5ex;\n",
       "  width: min-content;\n",
       "  min-width: 20ex;\n",
       "  max-width: 50ex;\n",
       "  color: var(--sklearn-color-text);\n",
       "  box-shadow: 2pt 2pt 4pt #999;\n",
       "  /* unfitted */\n",
       "  background: var(--sklearn-color-unfitted-level-0);\n",
       "  border: .5pt solid var(--sklearn-color-unfitted-level-3);\n",
       "}\n",
       "\n",
       ".sk-estimator-doc-link.fitted span {\n",
       "  /* fitted */\n",
       "  background: var(--sklearn-color-fitted-level-0);\n",
       "  border: var(--sklearn-color-fitted-level-3);\n",
       "}\n",
       "\n",
       ".sk-estimator-doc-link:hover span {\n",
       "  display: block;\n",
       "}\n",
       "\n",
       "/* \"?\"-specific style due to the `<a>` HTML tag */\n",
       "\n",
       "#sk-container-id-1 a.estimator_doc_link {\n",
       "  float: right;\n",
       "  font-size: 1rem;\n",
       "  line-height: 1em;\n",
       "  font-family: monospace;\n",
       "  background-color: var(--sklearn-color-background);\n",
       "  border-radius: 1rem;\n",
       "  height: 1rem;\n",
       "  width: 1rem;\n",
       "  text-decoration: none;\n",
       "  /* unfitted */\n",
       "  color: var(--sklearn-color-unfitted-level-1);\n",
       "  border: var(--sklearn-color-unfitted-level-1) 1pt solid;\n",
       "}\n",
       "\n",
       "#sk-container-id-1 a.estimator_doc_link.fitted {\n",
       "  /* fitted */\n",
       "  border: var(--sklearn-color-fitted-level-1) 1pt solid;\n",
       "  color: var(--sklearn-color-fitted-level-1);\n",
       "}\n",
       "\n",
       "/* On hover */\n",
       "#sk-container-id-1 a.estimator_doc_link:hover {\n",
       "  /* unfitted */\n",
       "  background-color: var(--sklearn-color-unfitted-level-3);\n",
       "  color: var(--sklearn-color-background);\n",
       "  text-decoration: none;\n",
       "}\n",
       "\n",
       "#sk-container-id-1 a.estimator_doc_link.fitted:hover {\n",
       "  /* fitted */\n",
       "  background-color: var(--sklearn-color-fitted-level-3);\n",
       "}\n",
       "</style><div id=\"sk-container-id-1\" class=\"sk-top-container\"><div class=\"sk-text-repr-fallback\"><pre>LinearRegression()</pre><b>In a Jupyter environment, please rerun this cell to show the HTML representation or trust the notebook. <br />On GitHub, the HTML representation is unable to render, please try loading this page with nbviewer.org.</b></div><div class=\"sk-container\" hidden><div class=\"sk-item\"><div class=\"sk-estimator fitted sk-toggleable\"><input class=\"sk-toggleable__control sk-hidden--visually\" id=\"sk-estimator-id-1\" type=\"checkbox\" checked><label for=\"sk-estimator-id-1\" class=\"sk-toggleable__label fitted sk-toggleable__label-arrow fitted\">&nbsp;&nbsp;LinearRegression<a class=\"sk-estimator-doc-link fitted\" rel=\"noreferrer\" target=\"_blank\" href=\"https://scikit-learn.org/1.4/modules/generated/sklearn.linear_model.LinearRegression.html\">?<span>Documentation for LinearRegression</span></a><span class=\"sk-estimator-doc-link fitted\">i<span>Fitted</span></span></label><div class=\"sk-toggleable__content fitted\"><pre>LinearRegression()</pre></div> </div></div></div></div>"
      ],
      "text/plain": [
       "LinearRegression()"
      ]
     },
     "execution_count": 66,
     "metadata": {},
     "output_type": "execute_result"
    }
   ],
   "source": [
    "f.fit(X,y)"
   ]
  },
  {
   "cell_type": "code",
   "execution_count": 67,
   "id": "15b55118-55cc-4f64-8403-7966c8c6e31c",
   "metadata": {},
   "outputs": [
    {
     "name": "stdout",
     "output_type": "stream",
     "text": [
      "0.8260932396611352 [0.07888319]\n"
     ]
    }
   ],
   "source": [
    "#pour avoir acces aux coefficients de la regression lineaire, on peut utiliser : \n",
    "ord_org = f.intercept_\n",
    "coeff_reg_1 = f.coef_\n",
    "print(ord_org, coeff_reg_1)\n",
    "coeff_reg_1 = pd.to_numeric(coeff_reg_1)"
   ]
  },
  {
   "cell_type": "code",
   "execution_count": 68,
   "id": "7e28c9da-63f8-40f1-adec-5980bf1da9d5",
   "metadata": {},
   "outputs": [
    {
     "data": {
      "text/plain": [
       "array([0.83529652, 0.80877753, 0.89988213, 0.7914621 , 0.7867015 ,\n",
       "       0.75015332, 0.89686653, 0.84588075, 0.79882521, 0.78894319,\n",
       "       0.80781206, 0.83219498, 0.83438375, 0.87955666, 0.82066952])"
      ]
     },
     "execution_count": 68,
     "metadata": {},
     "output_type": "execute_result"
    }
   ],
   "source": [
    "f.predict(X)"
   ]
  },
  {
   "cell_type": "code",
   "execution_count": 69,
   "id": "6a91f3ee-ab0e-4c8b-9c85-875c119d6290",
   "metadata": {},
   "outputs": [
    {
     "data": {
      "text/plain": [
       "array([0.78172202, 0.8328064 , 0.87578118, 0.7641865 , 0.763376  ,\n",
       "       0.89247423, 0.89548735, 0.87863437, 0.83278996, 0.8872509 ,\n",
       "       0.81450762, 0.8610209 , 0.78342361, 0.82520097, 0.88731267,\n",
       "       0.86957445, 0.78772079, 0.7555966 , 0.7779395 , 0.86228273,\n",
       "       0.80720874, 0.75914351, 0.86655339, 0.79098532, 0.7930716 ,\n",
       "       0.88569526, 0.80904565, 0.81115464, 0.76554986, 0.89772819])"
      ]
     },
     "execution_count": 69,
     "metadata": {},
     "output_type": "execute_result"
    }
   ],
   "source": [
    "f.predict(X_test)"
   ]
  },
  {
   "cell_type": "code",
   "execution_count": 70,
   "id": "17a53d19-a686-489e-b458-0a81a0c051c4",
   "metadata": {},
   "outputs": [
    {
     "data": {
      "image/png": "[encoded data removed]",
      "text/plain": [
       "<Figure size 640x480 with 1 Axes>"
      ]
     },
     "metadata": {},
     "output_type": "display_data"
    }
   ],
   "source": [
    "plt.plot(x_test,y_test, 'o')\n",
    "plt.plot(x,ord_org+x*coeff_reg_1)\n",
    "plt.show()"
   ]
  },
  {
   "cell_type": "code",
   "execution_count": 71,
   "id": "2e1718ba-12ce-4013-b8f4-15ff2a74eae4",
   "metadata": {},
   "outputs": [],
   "source": [
    "mean_err_app = statistics.mean(y-f.predict(X))\n",
    "mean_err_test = statistics.mean(y_test-f.predict(X_test))"
   ]
  },
  {
   "cell_type": "code",
   "execution_count": 72,
   "id": "c6414388-61ea-42a5-ac11-1e4e047058c5",
   "metadata": {},
   "outputs": [
    {
     "name": "stdout",
     "output_type": "stream",
     "text": [
      "-8.881784197001253e-17 -0.1644454911229722\n"
     ]
    }
   ],
   "source": [
    "print(mean_err_app, mean_err_test)"
   ]
  },
  {
   "cell_type": "markdown",
   "id": "b020c524-8e5d-40d7-aad5-ab3918937b1a",
   "metadata": {},
   "source": [
    "### Régression polynomiale"
   ]
  },
  {
   "cell_type": "code",
   "execution_count": 73,
   "id": "5bcc7217-9711-4099-84c4-9ec68b78db33",
   "metadata": {},
   "outputs": [],
   "source": [
    "from sklearn.preprocessing import PolynomialFeatures\n",
    "psi = PolynomialFeatures(2,include_bias=False).fit_transform"
   ]
  },
  {
   "cell_type": "code",
   "execution_count": 74,
   "id": "eb06ac9d-116a-4b86-9e9b-141fc217f53c",
   "metadata": {},
   "outputs": [],
   "source": [
    "f_chapeau = f.fit(psi(X), y)"
   ]
  },
  {
   "cell_type": "code",
   "execution_count": 75,
   "id": "168585f9-32af-4af0-9382-f18beb0fd19f",
   "metadata": {},
   "outputs": [
    {
     "data": {
      "image/png": "[encoded data removed]",
      "text/plain": [
       "<Figure size 640x480 with 1 Axes>"
      ]
     },
     "metadata": {},
     "output_type": "display_data"
    }
   ],
   "source": [
    "ech = np.linspace(-1,1,500)\n",
    "plt.plot(X,y, 'o', label = 'features')\n",
    "plt.plot(ech, pd.to_numeric(f_chapeau.intercept_)+ech*pd.to_numeric(f_chapeau.coef_[0])+pd.to_numeric(f_chapeau.coef_[1]*ech**2))\n",
    "plt.show()"
   ]
  },
  {
   "cell_type": "code",
   "execution_count": 76,
   "id": "12b83963-9dcf-4019-ab48-fd440206d78f",
   "metadata": {},
   "outputs": [
    {
     "data": {
      "text/plain": [
       "0.24458750663608214"
      ]
     },
     "execution_count": 76,
     "metadata": {},
     "output_type": "execute_result"
    }
   ],
   "source": [
    "f_chapeau.coef_[0]"
   ]
  },
  {
   "cell_type": "code",
   "execution_count": 77,
   "id": "38212dd7-ff6c-4a8e-bf19-80b5730c71ec",
   "metadata": {},
   "outputs": [],
   "source": [
    "mean_err_app_poly = np.mean(list(y-pd.to_numeric(f_chapeau.intercept_)\n",
    "                               +X*pd.to_numeric(f_chapeau.coef_[0])\n",
    "                               +pd.to_numeric(f_chapeau.coef_[1])*X**2))\n",
    "mean_err_test_poly = np.mean(list(y_test-pd.to_numeric(f_chapeau.intercept_)\n",
    "                               +X_test*pd.to_numeric(f_chapeau.coef_[0])\n",
    "                               +pd.to_numeric(f_chapeau.coef_[1])*X_test**2))"
   ]
  },
  {
   "cell_type": "code",
   "execution_count": 78,
   "id": "216099a6-00c8-44c9-a0f7-636b9914f677",
   "metadata": {},
   "outputs": [
    {
     "name": "stdout",
     "output_type": "stream",
     "text": [
      "erreur d'apprentissage, reg lin simple: \n",
      " -8.881784197001253e-17 \n",
      " erreur d'apprentissage, reg poly, deg 2: \n",
      " -0.5642466844164988\n"
     ]
    }
   ],
   "source": [
    "print(\"erreur d'apprentissage, reg lin simple:\",'\\n', mean_err_app, \"\\n\",\n",
    "     \"erreur d'apprentissage, reg poly, deg 2:\", \"\\n\", mean_err_app_poly)"
   ]
  },
  {
   "cell_type": "code",
   "execution_count": 79,
   "id": "12b44042-7171-4ba0-8307-6379e238d8f8",
   "metadata": {},
   "outputs": [
    {
     "name": "stdout",
     "output_type": "stream",
     "text": [
      "erreur de test, reg lin simple: \n",
      " -0.1644454911229722 \n",
      " erreur de test, reg poly, deg 2: \n",
      " -0.8210758545525548\n"
     ]
    }
   ],
   "source": [
    "print(\"erreur de test, reg lin simple:\",'\\n', mean_err_test, \"\\n\",\n",
    "     \"erreur de test, reg poly, deg 2:\", \"\\n\", mean_err_test_poly)"
   ]
  },
  {
   "cell_type": "code",
   "execution_count": 80,
   "id": "fa408b0e-f92e-44de-8003-24c50505f2ca",
   "metadata": {},
   "outputs": [],
   "source": [
    "#apprend mieux mais sur le moment marche moins bien?"
   ]
  },
  {
   "cell_type": "markdown",
   "id": "ae36f6c0-2d16-405d-8a23-90f884d78a93",
   "metadata": {},
   "source": [
    "#### Q10"
   ]
  },
  {
   "cell_type": "code",
   "execution_count": 81,
   "id": "6a9cc997-3b90-4f64-b854-9789eee06d03",
   "metadata": {},
   "outputs": [],
   "source": [
    "def pred_et_psi(n,data,output):\n",
    "    psi_gen = PolynomialFeatures(n,include_bias=False).fit_transform\n",
    "    f_chapeau_gen = f.fit(psi_gen(data),output)\n",
    "    return psi_gen, f_chapeau_gen"
   ]
  },
  {
   "cell_type": "code",
   "execution_count": 82,
   "id": "8b65f2e7-60ac-4cf3-8fdd-3b16fe9a2203",
   "metadata": {},
   "outputs": [
    {
     "data": {
      "image/png": "[encoded data removed]",
      "text/plain": [
       "<Figure size 640x480 with 1 Axes>"
      ]
     },
     "metadata": {},
     "output_type": "display_data"
    }
   ],
   "source": [
    "liste_ordres = [3,4,13,14]\n",
    "ax = plt.gca()\n",
    "ax.set_xlim([-1, 1])\n",
    "ax.set_ylim([-2, 2])\n",
    "plt.plot(X,y, 'o')\n",
    "for i in liste_ordres:\n",
    "    plt.plot(ech,pred_et_psi(i,X,y)[1].predict(pred_et_psi(i,X,y)[0](ech[:,np.newaxis])),\n",
    "            linewidth = 1, label=str(i))\n",
    "\n",
    "plt.legend()\n",
    "plt.show()"
   ]
  },
  {
   "cell_type": "code",
   "execution_count": 83,
   "id": "02ea2896-37ed-483a-b2b4-56c0e2df7084",
   "metadata": {},
   "outputs": [
    {
     "name": "stdout",
     "output_type": "stream",
     "text": [
      "[-0.72946303 -0.98323918  1.46809425] 1.023205421814341\n"
     ]
    }
   ],
   "source": [
    "#comparaison des coefficients du predicteur pour n=3 et celui utilisé pour creer les donnees\n",
    "print(pred_et_psi(3,X,y)[1].coef_, pred_et_psi(3,X,y)[1].intercept_)"
   ]
  },
  {
   "cell_type": "markdown",
   "id": "e5d796c7-2497-4ece-a528-04a2266ba07a",
   "metadata": {},
   "source": [
    "Rmq préliminaire, l'ordre des coefficients est croissant. \n",
    "On remarque que ça fit presque parfaitement les coefficients avec lesquels on a créé les Y_i. \n",
    "Les quelques différences peuvent s'expliquer par le bruit causé par les $\\zeta$ qui font du bruit.\n",
    "On remarque aussi qu'à partir du moment où on dépasse de \"beaucoup\" l'ordre 3, on a un gros soucis d'overfitting des données."
   ]
  },
  {
   "cell_type": "markdown",
   "id": "43d00ba0-77fb-4630-a6af-2add82d2d896",
   "metadata": {},
   "source": [
    "#### Cas n=14"
   ]
  },
  {
   "cell_type": "code",
   "execution_count": 84,
   "id": "abc6bb67-2c9b-4372-89a3-7d14c8f72dfd",
   "metadata": {},
   "outputs": [
    {
     "name": "stdout",
     "output_type": "stream",
     "text": [
      "[-2.09321584e-01 -7.19697484e-01  2.14024383e+02 -4.01925345e+02\n",
      " -1.65509397e+04 -2.24360603e+04  2.50713552e+05  6.15224375e+05\n",
      " -7.41144318e+05 -2.65642271e+06  6.08483600e+05  4.09574793e+06\n",
      " -9.05398705e+04 -2.07264756e+06] 0.9985202604411967\n"
     ]
    }
   ],
   "source": [
    "print(pred_et_psi(14,X,y)[1].coef_, pred_et_psi(14,X,y)[1].intercept_)"
   ]
  },
  {
   "cell_type": "markdown",
   "id": "4cd41410-9919-45a0-9488-94825c3a19b9",
   "metadata": {},
   "source": [
    "Complètement dans les fraises, comme les données sont générées sans ordre supérieur à 3, tous les coefficients au-delà sont \"factices\". Et donc, on peut supposer qu'à chaque nouveau degré, il y a plus d'erreur qui se fait, et que le coefficient d'après essaie de le corriger mais ça crée encore plus d'erreur etc.. etc.."
   ]
  },
  {
   "cell_type": "code",
   "execution_count": 85,
   "id": "799b1b49-18df-4db0-bc3f-61eff663c776",
   "metadata": {
    "scrolled": true
   },
   "outputs": [],
   "source": [
    "liste_err_app = []\n",
    "liste_err_test = []\n",
    "entiers = []\n",
    "for i in range(1,15) :\n",
    "    liste_err_app.append(np.mean(y-pred_et_psi(i,X,y)[1].predict(pred_et_psi(i,X,y)[0](X))))\n",
    "    liste_err_test.append(np.mean(y_test-pred_et_psi(i,X_test,y_test)[1].predict(pred_et_psi(i,X_test,y_test)[0](X_test))))\n",
    "    entiers.append(i)\n",
    "\n",
    "    \n",
    "#plt.plot(ech,pred_et_psi(i,X,y)[1].predict(pred_et_psi(i,X,y)[0](ech[:,np.newaxis])),\n",
    " #           linewidth = 1, label=str(i))"
   ]
  },
  {
   "cell_type": "code",
   "execution_count": 86,
   "id": "670f09eb-724a-41cf-b397-c001faf14353",
   "metadata": {},
   "outputs": [
    {
     "data": {
      "image/png": "[encoded data removed]",
      "text/plain": [
       "<Figure size 640x480 with 1 Axes>"
      ]
     },
     "metadata": {},
     "output_type": "display_data"
    }
   ],
   "source": [
    "plt.plot(entiers, liste_err_app, label=\"erreur d'apprentissage\")\n",
    "plt.plot(entiers, liste_err_test, label=\"erreur de test\")\n",
    "plt.legend()\n",
    "plt.show()"
   ]
  },
  {
   "cell_type": "code",
   "execution_count": 87,
   "id": "71f31580-cfdd-4b9b-8bd6-ebc5313744c0",
   "metadata": {},
   "outputs": [
    {
     "data": {
      "text/plain": [
       "array([ 0.85411496,  0.92681475,  0.54020291,  0.21433429,  0.17257372,\n",
       "        0.54544906,  0.5647309 ,  0.52739948,  0.92706279,  0.51726081,\n",
       "        1.11179332,  0.609616  ,  0.88850382,  1.03066756,  0.51744127,\n",
       "        0.57009162,  0.95986111, -0.23683981,  0.7623586 ,  0.60342161,\n",
       "        1.11468822, -0.05207371,  0.58387502,  1.00223089,  1.02512648,\n",
       "        0.51410462,  1.11766649,  1.11811768,  0.28290731,  0.5683584 ])"
      ]
     },
     "execution_count": 87,
     "metadata": {},
     "output_type": "execute_result"
    }
   ],
   "source": [
    "pred_et_psi(10,X_test,y_test)[1].predict(pred_et_psi(10,X_test,y_test)[0](X_test))"
   ]
  },
  {
   "cell_type": "code",
   "execution_count": 88,
   "id": "31c5143d-f8f1-48c5-a3aa-0658096115ae",
   "metadata": {},
   "outputs": [
    {
     "data": {
      "text/plain": [
       "array([ 0.82974508,  0.96265507,  0.5247327 ,  0.24585927,  0.17686551,\n",
       "        0.52325722,  0.6108311 ,  0.56808731,  0.90849825,  0.54921026,\n",
       "        1.05390129,  0.55637706,  0.9059407 ,  1.04084244,  0.53874338,\n",
       "        0.60477131,  0.89347494, -0.2226516 ,  0.76494269,  0.64210512,\n",
       "        1.09767736, -0.0915665 ,  0.55988057,  1.03065911,  1.07310692,\n",
       "        0.43078416,  1.13576899,  1.14017988,  0.28140222,  0.54577835])"
      ]
     },
     "execution_count": 88,
     "metadata": {},
     "output_type": "execute_result"
    }
   ],
   "source": [
    "y_test"
   ]
  },
  {
   "cell_type": "markdown",
   "id": "3a94d9fd-9edc-4b3c-bd96-2a85c6f7e1db",
   "metadata": {},
   "source": [
    "### Sans doute petit problème de surapprentissage parce qu'il y a vraiment trop peu d'erreur"
   ]
  },
  {
   "cell_type": "code",
   "execution_count": null,
   "id": "44f03b45-5660-414d-af7a-ada97b1dc105",
   "metadata": {},
   "outputs": [],
   "source": []
  }
 ],
 "metadata": {
  "kernelspec": {
   "display_name": "Python 3 (ipykernel)",
   "language": "python",
   "name": "python3"
  },
  "language_info": {
   "codemirror_mode": {
    "name": "ipython",
    "version": 3
   },
   "file_extension": ".py",
   "mimetype": "text/x-python",
   "name": "python",
   "nbconvert_exporter": "python",
   "pygments_lexer": "ipython3",
   "version": "3.11.6"
  }
 },
 "nbformat": 4,
 "nbformat_minor": 5
}
